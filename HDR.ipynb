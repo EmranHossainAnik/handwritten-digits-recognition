{
 "cells": [
  {
   "cell_type": "code",
   "execution_count": 1,
   "id": "bce314a4",
   "metadata": {},
   "outputs": [],
   "source": [
    "import matplotlib.pyplot as plt\n",
    "import pandas as pd\n",
    "from sklearn.model_selection import train_test_split\n",
    "from sklearn.svm import SVC\n",
    "from sklearn.metrics import classification_report, accuracy_score\n",
    "import joblib"
   ]
  },
  {
   "cell_type": "code",
   "execution_count": 2,
   "id": "f4e4c748",
   "metadata": {},
   "outputs": [],
   "source": [
    "#generating dataset\n",
    "\n",
    "import cv2\n",
    "import csv\n",
    "import glob\n",
    "  \n",
    "header  =[\"label\"]\n",
    "for i in range(0,784):\n",
    "   header.append(\"pixel\"+str(i))\n",
    "with open('dataset.csv', 'a') as f:\n",
    "   writer = csv.writer(f)\n",
    "   writer.writerow(header)\n",
    "    \n",
    "for label in range(10):\n",
    "   dirList = glob.glob(\"Dataset/\"+str(label)+\"/*.png\")\n",
    "    \n",
    "   for img_path in dirList:\n",
    "       im= cv2.imread(img_path)\n",
    "       im_gray = cv2.cvtColor(im,cv2.COLOR_BGR2GRAY)\n",
    "       im_gray = cv2.GaussianBlur(im_gray,(15,15), 0)\n",
    "       roi= cv2.resize(im_gray,(28,28), interpolation=cv2.INTER_AREA)\n",
    "        \n",
    "       data=[]\n",
    "       data.append(label)\n",
    "       rows, cols = roi.shape\n",
    "        \n",
    "       ## Fill the data array with pixels one by one.\n",
    "       for i in range(rows):\n",
    "           for j in range(cols):\n",
    "               k =roi[i,j]\n",
    "               if k>100:\n",
    "                   k=1\n",
    "               else:\n",
    "                   k=0\n",
    "               data.append(k)\n",
    "       with open('dataset.csv', 'a') as f:\n",
    "           writer = csv.writer(f)\n",
    "           writer.writerow(data)"
   ]
  },
  {
   "cell_type": "code",
   "execution_count": 3,
   "id": "87c32858",
   "metadata": {},
   "outputs": [
    {
     "name": "stdout",
     "output_type": "stream",
     "text": [
      "     label  pixel0  pixel1  pixel2  pixel3  pixel4  pixel5  pixel6  pixel7  \\\n",
      "112      1       0       0       0       0       0       0       0       0   \n",
      "182      1       0       0       0       0       0       0       0       0   \n",
      "913      9       0       0       0       0       0       0       0       0   \n",
      "111      1       0       0       0       0       0       0       0       0   \n",
      "850      8       0       0       0       0       0       0       0       0   \n",
      "..     ...     ...     ...     ...     ...     ...     ...     ...     ...   \n",
      "370      3       0       0       0       0       0       0       0       0   \n",
      "567      5       0       0       0       0       0       0       0       0   \n",
      "248      2       0       0       0       0       0       0       0       0   \n",
      "144      1       0       0       0       0       0       0       0       0   \n",
      "736      7       0       0       0       0       0       0       0       0   \n",
      "\n",
      "     pixel8  ...  pixel774  pixel775  pixel776  pixel777  pixel778  pixel779  \\\n",
      "112       0  ...         0         0         0         0         0         0   \n",
      "182       0  ...         0         0         0         0         0         0   \n",
      "913       0  ...         0         0         0         0         0         0   \n",
      "111       0  ...         0         0         0         0         0         0   \n",
      "850       0  ...         1         1         0         0         0         0   \n",
      "..      ...  ...       ...       ...       ...       ...       ...       ...   \n",
      "370       0  ...         0         0         0         0         0         0   \n",
      "567       0  ...         0         0         0         0         0         0   \n",
      "248       0  ...         0         0         0         0         0         0   \n",
      "144       0  ...         0         0         0         0         0         0   \n",
      "736       0  ...         0         0         0         0         0         0   \n",
      "\n",
      "     pixel780  pixel781  pixel782  pixel783  \n",
      "112         0         0         0         0  \n",
      "182         0         0         0         0  \n",
      "913         0         0         0         0  \n",
      "111         0         0         0         0  \n",
      "850         0         0         0         0  \n",
      "..        ...       ...       ...       ...  \n",
      "370         0         0         0         0  \n",
      "567         0         0         0         0  \n",
      "248         0         0         0         0  \n",
      "144         0         0         0         0  \n",
      "736         0         0         0         0  \n",
      "\n",
      "[1000 rows x 785 columns]\n"
     ]
    }
   ],
   "source": [
    "import pandas as pd\n",
    "from sklearn.utils import shuffle\n",
    "\n",
    " \n",
    "data = pd.read_csv('dataset.csv')\n",
    "data = shuffle(data)\n",
    "print(data)"
   ]
  },
  {
   "cell_type": "code",
   "execution_count": 4,
   "id": "6ba71e57",
   "metadata": {},
   "outputs": [],
   "source": [
    "X = data.drop([\"label\"],axis=1)\n",
    "Y= data[\"label\"]"
   ]
  },
  {
   "cell_type": "code",
   "execution_count": 5,
   "id": "0e6f1c3a",
   "metadata": {},
   "outputs": [
    {
     "name": "stdout",
     "output_type": "stream",
     "text": [
      "3\n"
     ]
    },
    {
     "data": {
      "text/plain": [
       "<matplotlib.image.AxesImage at 0x25ab5ad9910>"
      ]
     },
     "execution_count": 5,
     "metadata": {},
     "output_type": "execute_result"
    },
    {
     "data": {
      "image/png": "[encoded data removed]",
      "text/plain": [
       "<Figure size 640x480 with 1 Axes>"
      ]
     },
     "metadata": {},
     "output_type": "display_data"
    }
   ],
   "source": [
    "%matplotlib inline\n",
    "import matplotlib.pyplot as plt\n",
    "import cv2\n",
    "idx = 314\n",
    "img = X.loc[idx].values.reshape(28,28)\n",
    "print(Y[idx])\n",
    "plt.imshow(img)"
   ]
  },
  {
   "cell_type": "code",
   "execution_count": 6,
   "id": "2629f788",
   "metadata": {},
   "outputs": [],
   "source": [
    "# Split the data into train and test sets\n",
    "train_x, test_x, train_y, test_y = train_test_split(X, Y, test_size=0.2)"
   ]
  },
  {
   "cell_type": "code",
   "execution_count": 7,
   "id": "4cb4453f",
   "metadata": {},
   "outputs": [
    {
     "data": {
      "text/html": [
       "<style>#sk-container-id-1 {color: black;background-color: white;}#sk-container-id-1 pre{padding: 0;}#sk-container-id-1 div.sk-toggleable {background-color: white;}#sk-container-id-1 label.sk-toggleable__label {cursor: pointer;display: block;width: 100%;margin-bottom: 0;padding: 0.3em;box-sizing: border-box;text-align: center;}#sk-container-id-1 label.sk-toggleable__label-arrow:before {content: \"▸\";float: left;margin-right: 0.25em;color: #696969;}#sk-container-id-1 label.sk-toggleable__label-arrow:hover:before {color: black;}#sk-container-id-1 div.sk-estimator:hover label.sk-toggleable__label-arrow:before {color: black;}#sk-container-id-1 div.sk-toggleable__content {max-height: 0;max-width: 0;overflow: hidden;text-align: left;background-color: #f0f8ff;}#sk-container-id-1 div.sk-toggleable__content pre {margin: 0.2em;color: black;border-radius: 0.25em;background-color: #f0f8ff;}#sk-container-id-1 input.sk-toggleable__control:checked~div.sk-toggleable__content {max-height: 200px;max-width: 100%;overflow: auto;}#sk-container-id-1 input.sk-toggleable__control:checked~label.sk-toggleable__label-arrow:before {content: \"▾\";}#sk-container-id-1 div.sk-estimator input.sk-toggleable__control:checked~label.sk-toggleable__label {background-color: #d4ebff;}#sk-container-id-1 div.sk-label input.sk-toggleable__control:checked~label.sk-toggleable__label {background-color: #d4ebff;}#sk-container-id-1 input.sk-hidden--visually {border: 0;clip: rect(1px 1px 1px 1px);clip: rect(1px, 1px, 1px, 1px);height: 1px;margin: -1px;overflow: hidden;padding: 0;position: absolute;width: 1px;}#sk-container-id-1 div.sk-estimator {font-family: monospace;background-color: #f0f8ff;border: 1px dotted black;border-radius: 0.25em;box-sizing: border-box;margin-bottom: 0.5em;}#sk-container-id-1 div.sk-estimator:hover {background-color: #d4ebff;}#sk-container-id-1 div.sk-parallel-item::after {content: \"\";width: 100%;border-bottom: 1px solid gray;flex-grow: 1;}#sk-container-id-1 div.sk-label:hover label.sk-toggleable__label {background-color: #d4ebff;}#sk-container-id-1 div.sk-serial::before {content: \"\";position: absolute;border-left: 1px solid gray;box-sizing: border-box;top: 0;bottom: 0;left: 50%;z-index: 0;}#sk-container-id-1 div.sk-serial {display: flex;flex-direction: column;align-items: center;background-color: white;padding-right: 0.2em;padding-left: 0.2em;position: relative;}#sk-container-id-1 div.sk-item {position: relative;z-index: 1;}#sk-container-id-1 div.sk-parallel {display: flex;align-items: stretch;justify-content: center;background-color: white;position: relative;}#sk-container-id-1 div.sk-item::before, #sk-container-id-1 div.sk-parallel-item::before {content: \"\";position: absolute;border-left: 1px solid gray;box-sizing: border-box;top: 0;bottom: 0;left: 50%;z-index: -1;}#sk-container-id-1 div.sk-parallel-item {display: flex;flex-direction: column;z-index: 1;position: relative;background-color: white;}#sk-container-id-1 div.sk-parallel-item:first-child::after {align-self: flex-end;width: 50%;}#sk-container-id-1 div.sk-parallel-item:last-child::after {align-self: flex-start;width: 50%;}#sk-container-id-1 div.sk-parallel-item:only-child::after {width: 0;}#sk-container-id-1 div.sk-dashed-wrapped {border: 1px dashed gray;margin: 0 0.4em 0.5em 0.4em;box-sizing: border-box;padding-bottom: 0.4em;background-color: white;}#sk-container-id-1 div.sk-label label {font-family: monospace;font-weight: bold;display: inline-block;line-height: 1.2em;}#sk-container-id-1 div.sk-label-container {text-align: center;}#sk-container-id-1 div.sk-container {/* jupyter's `normalize.less` sets `[hidden] { display: none; }` but bootstrap.min.css set `[hidden] { display: none !important; }` so we also need the `!important` here to be able to override the default hidden behavior on the sphinx rendered scikit-learn.org. See: https://github.com/scikit-learn/scikit-learn/issues/21755 */display: inline-block !important;position: relative;}#sk-container-id-1 div.sk-text-repr-fallback {display: none;}</style><div id=\"sk-container-id-1\" class=\"sk-top-container\"><div class=\"sk-text-repr-fallback\"><pre>SVC(kernel=&#x27;linear&#x27;, random_state=6)</pre><b>In a Jupyter environment, please rerun this cell to show the HTML representation or trust the notebook. <br />On GitHub, the HTML representation is unable to render, please try loading this page with nbviewer.org.</b></div><div class=\"sk-container\" hidden><div class=\"sk-item\"><div class=\"sk-estimator sk-toggleable\"><input class=\"sk-toggleable__control sk-hidden--visually\" id=\"sk-estimator-id-1\" type=\"checkbox\" checked><label for=\"sk-estimator-id-1\" class=\"sk-toggleable__label sk-toggleable__label-arrow\">SVC</label><div class=\"sk-toggleable__content\"><pre>SVC(kernel=&#x27;linear&#x27;, random_state=6)</pre></div></div></div></div></div>"
      ],
      "text/plain": [
       "SVC(kernel='linear', random_state=6)"
      ]
     },
     "execution_count": 7,
     "metadata": {},
     "output_type": "execute_result"
    }
   ],
   "source": [
    "# Train the SVM model\n",
    "svm_classifier = SVC(kernel=\"linear\", random_state=6)\n",
    "svm_classifier.fit(train_x, train_y)"
   ]
  },
  {
   "cell_type": "code",
   "execution_count": 8,
   "id": "6334e696",
   "metadata": {},
   "outputs": [
    {
     "data": {
      "text/plain": [
       "['model/digit_recognizer']"
      ]
     },
     "execution_count": 8,
     "metadata": {},
     "output_type": "execute_result"
    }
   ],
   "source": [
    "# Save the trained model\n",
    "joblib.dump(svm_classifier, \"model/digit_recognizer\")"
   ]
  },
  {
   "cell_type": "code",
   "execution_count": 9,
   "id": "54bcda0b",
   "metadata": {},
   "outputs": [],
   "source": [
    "# Make predictions on the test set\n",
    "prediction = svm_classifier.predict(test_x)"
   ]
  },
  {
   "cell_type": "code",
   "execution_count": 10,
   "id": "ead5fc32",
   "metadata": {},
   "outputs": [
    {
     "name": "stdout",
     "output_type": "stream",
     "text": [
      "Accuracy =  0.965\n"
     ]
    }
   ],
   "source": [
    "# Calculate accuracy\n",
    "accuracy = accuracy_score(test_y, prediction)\n",
    "print(\"Accuracy = \", accuracy)"
   ]
  },
  {
   "cell_type": "code",
   "execution_count": 11,
   "id": "662457cc",
   "metadata": {},
   "outputs": [
    {
     "name": "stdout",
     "output_type": "stream",
     "text": [
      "Classification Report:\n",
      "              precision    recall  f1-score   support\n",
      "\n",
      "           0       1.00      1.00      1.00        20\n",
      "           1       0.95      0.95      0.95        19\n",
      "           2       1.00      1.00      1.00        20\n",
      "           3       1.00      0.95      0.97        20\n",
      "           4       0.84      0.94      0.89        17\n",
      "           5       0.95      0.91      0.93        22\n",
      "           6       0.94      1.00      0.97        16\n",
      "           7       0.96      1.00      0.98        25\n",
      "           8       1.00      0.92      0.96        24\n",
      "           9       1.00      1.00      1.00        17\n",
      "\n",
      "    accuracy                           0.96       200\n",
      "   macro avg       0.96      0.97      0.96       200\n",
      "weighted avg       0.97      0.96      0.97       200\n",
      "\n"
     ]
    }
   ],
   "source": [
    "# Get the classification report\n",
    "class_report = classification_report(test_y, prediction)\n",
    "\n",
    "# Print the classification report\n",
    "print(\"Classification Report:\")\n",
    "print(class_report)"
   ]
  },
  {
   "cell_type": "code",
   "execution_count": 12,
   "id": "d64a4134",
   "metadata": {},
   "outputs": [
    {
     "data": {
      "text/plain": [
       "<Figure size 1000x600 with 0 Axes>"
      ]
     },
     "metadata": {},
     "output_type": "display_data"
    },
    {
     "data": {
      "image/png": "[encoded data removed]",
      "text/plain": [
       "<Figure size 640x480 with 1 Axes>"
      ]
     },
     "metadata": {},
     "output_type": "display_data"
    }
   ],
   "source": [
    "# Parse classification report values\n",
    "report_lines = class_report.split('\\n')[2:-5]\n",
    "class_labels = []\n",
    "precision = []\n",
    "recall = []\n",
    "f1_score = []\n",
    "for line in report_lines:\n",
    "    row = line.split()\n",
    "    class_labels.append(row[0])\n",
    "    precision.append(float(row[1]))\n",
    "    recall.append(float(row[2]))\n",
    "    f1_score.append(float(row[3]))\n",
    "\n",
    "# Create a DataFrame from the classification report data\n",
    "report_data = {\n",
    "    'Class': class_labels,\n",
    "    'Accuracy': [accuracy] * len(class_labels),\n",
    "    'Precision': precision,\n",
    "    'Recall': recall,\n",
    "    'F1-score': f1_score\n",
    "}\n",
    "\n",
    "df = pd.DataFrame(report_data)\n",
    "\n",
    "# Set the 'Class' column as the index for easier plotting\n",
    "df = df.set_index('Class')\n",
    "\n",
    "# Plot the bar chart\n",
    "plt.figure(figsize=(10, 6))\n",
    "df.plot(kind='bar', colormap='viridis')\n",
    "plt.title('Classification Report Metrics')\n",
    "plt.xlabel('Class')\n",
    "plt.ylabel('Score')\n",
    "plt.ylim(0, 1)  # Set the y-axis limit to show scores between 0 and 1\n",
    "plt.legend(title='Metrics', bbox_to_anchor=(1.05, 1), loc='upper left')\n",
    "plt.show()"
   ]
  },
  {
   "cell_type": "code",
   "execution_count": 13,
   "id": "c6c4d552",
   "metadata": {},
   "outputs": [
    {
     "data": {
      "image/png": "[encoded data removed]",
      "text/plain": [
       "<Figure size 1000x800 with 2 Axes>"
      ]
     },
     "metadata": {},
     "output_type": "display_data"
    }
   ],
   "source": [
    "import matplotlib.pyplot as plt\n",
    "import seaborn as sns\n",
    "from sklearn.metrics import confusion_matrix\n",
    "import pandas as pd\n",
    "import numpy as np\n",
    "\n",
    "# Make predictions on the test set\n",
    "prediction = svm_classifier.predict(test_x)\n",
    "\n",
    "# Calculate the confusion matrix\n",
    "cm = confusion_matrix(test_y, prediction)\n",
    "\n",
    "# Create a DataFrame for the confusion matrix\n",
    "cm_df = pd.DataFrame(cm, index=class_labels, columns=class_labels)\n",
    "\n",
    "# Plot the confusion matrix\n",
    "plt.figure(figsize=(10, 8))\n",
    "sns.heatmap(cm_df, annot=True, fmt=\"d\", cmap=\"Blues\")\n",
    "plt.title('Confusion Matrix')\n",
    "plt.xlabel('Predicted')\n",
    "plt.ylabel('Actual')\n",
    "plt.show()\n"
   ]
  },
  {
   "cell_type": "code",
   "execution_count": 14,
   "id": "4a102303",
   "metadata": {
    "scrolled": false
   },
   "outputs": [
    {
     "name": "stderr",
     "output_type": "stream",
     "text": [
      "C:\\Users\\emran\\anaconda3\\envs\\HDR\\Lib\\site-packages\\sklearn\\base.py:439: UserWarning: X does not have valid feature names, but SVC was fitted with feature names\n",
      "  warnings.warn(\n"
     ]
    },
    {
     "name": "stdout",
     "output_type": "stream",
     "text": [
      "Prediction:  8\n"
     ]
    },
    {
     "name": "stderr",
     "output_type": "stream",
     "text": [
      "C:\\Users\\emran\\anaconda3\\envs\\HDR\\Lib\\site-packages\\sklearn\\base.py:439: UserWarning: X does not have valid feature names, but SVC was fitted with feature names\n",
      "  warnings.warn(\n"
     ]
    },
    {
     "name": "stdout",
     "output_type": "stream",
     "text": [
      "Prediction:  8\n"
     ]
    },
    {
     "name": "stderr",
     "output_type": "stream",
     "text": [
      "C:\\Users\\emran\\anaconda3\\envs\\HDR\\Lib\\site-packages\\sklearn\\base.py:439: UserWarning: X does not have valid feature names, but SVC was fitted with feature names\n",
      "  warnings.warn(\n"
     ]
    },
    {
     "name": "stdout",
     "output_type": "stream",
     "text": [
      "Prediction:  1\n"
     ]
    },
    {
     "name": "stderr",
     "output_type": "stream",
     "text": [
      "C:\\Users\\emran\\anaconda3\\envs\\HDR\\Lib\\site-packages\\sklearn\\base.py:439: UserWarning: X does not have valid feature names, but SVC was fitted with feature names\n",
      "  warnings.warn(\n"
     ]
    },
    {
     "name": "stdout",
     "output_type": "stream",
     "text": [
      "Prediction:  1\n"
     ]
    },
    {
     "name": "stderr",
     "output_type": "stream",
     "text": [
      "C:\\Users\\emran\\anaconda3\\envs\\HDR\\Lib\\site-packages\\sklearn\\base.py:439: UserWarning: X does not have valid feature names, but SVC was fitted with feature names\n",
      "  warnings.warn(\n"
     ]
    },
    {
     "name": "stdout",
     "output_type": "stream",
     "text": [
      "Prediction:  1\n"
     ]
    },
    {
     "ename": "KeyboardInterrupt",
     "evalue": "",
     "output_type": "error",
     "traceback": [
      "\u001b[1;31m---------------------------------------------------------------------------\u001b[0m",
      "\u001b[1;31mKeyboardInterrupt\u001b[0m                         Traceback (most recent call last)",
      "Cell \u001b[1;32mIn[14], line 41\u001b[0m\n\u001b[0;32m     38\u001b[0m cv2\u001b[38;5;241m.\u001b[39mimshow(\u001b[38;5;124m\"\u001b[39m\u001b[38;5;124mResult\u001b[39m\u001b[38;5;124m\"\u001b[39m, im)\n\u001b[0;32m     40\u001b[0m \u001b[38;5;66;03m# Wait for a key press or timeout\u001b[39;00m\n\u001b[1;32m---> 41\u001b[0m key \u001b[38;5;241m=\u001b[39m cv2\u001b[38;5;241m.\u001b[39mwaitKey(\u001b[38;5;241m10000\u001b[39m)  \u001b[38;5;66;03m# Change the timeout value to adjust display duration\u001b[39;00m\n\u001b[0;32m     43\u001b[0m \u001b[38;5;66;03m# Exit if 'Enter' key is pressed\u001b[39;00m\n\u001b[0;32m     44\u001b[0m \u001b[38;5;28;01mif\u001b[39;00m key \u001b[38;5;241m==\u001b[39m \u001b[38;5;241m13\u001b[39m:\n",
      "\u001b[1;31mKeyboardInterrupt\u001b[0m: "
     ]
    }
   ],
   "source": [
    "import joblib\n",
    "import cv2\n",
    "import numpy as np\n",
    "import time\n",
    "import pyscreenshot as ImageGrab\n",
    "\n",
    "# Load the trained model\n",
    "model = joblib.load(\"model/digit_recognizer\")\n",
    "\n",
    "# Function to preprocess the image\n",
    "def preprocess_image(image):\n",
    "    im_gray = cv2.cvtColor(image, cv2.COLOR_BGR2GRAY)\n",
    "    im_gray = cv2.GaussianBlur(im_gray, (15, 15), 0)\n",
    "    _, im_th = cv2.threshold(im_gray, 100, 255, cv2.THRESH_BINARY)\n",
    "    roi = cv2.resize(im_th, (28, 28), interpolation=cv2.INTER_AREA)\n",
    "    roi = np.array(roi).reshape(1, -1)\n",
    "    roi = np.array(roi) / 255.0\n",
    "    return roi\n",
    "\n",
    "images_folder = \"img/\"\n",
    "\n",
    "while True:\n",
    "    img = ImageGrab.grab(bbox=(0, 161, 680, 685))\n",
    "    img_np = np.array(img)\n",
    "    im = cv2.cvtColor(img_np, cv2.COLOR_BGR2RGB)\n",
    "\n",
    "    # Preprocess the image\n",
    "    X = preprocess_image(im)\n",
    "\n",
    "    # Make prediction\n",
    "    prediction = model.predict(X)[0]\n",
    "    print(\"Prediction: \", prediction)\n",
    "\n",
    "    # Display the prediction on the image\n",
    "    cv2.putText(im, \"The Number is Predicted as: \" + str(prediction), (20, 20), 0, 0.8, (0, 255, 0), 2, cv2.LINE_AA)\n",
    "\n",
    "    # Display the result\n",
    "    cv2.imshow(\"Result\", im)\n",
    "\n",
    "    # Wait for a key press or timeout\n",
    "    key = cv2.waitKey(10000)  # Change the timeout value to adjust display duration\n",
    "\n",
    "    # Exit if 'Enter' key is pressed\n",
    "    if key == 13:\n",
    "        break\n",
    "\n",
    "# Close the OpenCV windows\n",
    "cv2.destroyAllWindows()\n"
   ]
  },
  {
   "cell_type": "code",
   "execution_count": null,
   "id": "0d22c7bd",
   "metadata": {},
   "outputs": [],
   "source": []
  }
 ],
 "metadata": {
  "kernelspec": {
   "display_name": "Python 3 (ipykernel)",
   "language": "python",
   "name": "python3"
  },
  "language_info": {
   "codemirror_mode": {
    "name": "ipython",
    "version": 3
   },
   "file_extension": ".py",
   "mimetype": "text/x-python",
   "name": "python",
   "nbconvert_exporter": "python",
   "pygments_lexer": "ipython3",
   "version": "3.11.4"
  }
 },
 "nbformat": 4,
 "nbformat_minor": 5
}
