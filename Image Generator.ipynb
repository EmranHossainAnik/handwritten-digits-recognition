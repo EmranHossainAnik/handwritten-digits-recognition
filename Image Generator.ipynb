{
 "cells": [
  {
   "cell_type": "code",
   "execution_count": 1,
   "id": "890eb781",
   "metadata": {},
   "outputs": [
    {
     "name": "stdout",
     "output_type": "stream",
     "text": [
      "Requirement already satisfied: image in c:\\users\\emran\\anaconda3\\envs\\hdr\\lib\\site-packages (1.5.33)\n",
      "Requirement already satisfied: pillow in c:\\users\\emran\\anaconda3\\envs\\hdr\\lib\\site-packages (from image) (9.4.0)\n",
      "Requirement already satisfied: django in c:\\users\\emran\\anaconda3\\envs\\hdr\\lib\\site-packages (from image) (4.2.4)\n",
      "Requirement already satisfied: six in c:\\users\\emran\\anaconda3\\envs\\hdr\\lib\\site-packages (from image) (1.16.0)\n",
      "Requirement already satisfied: asgiref<4,>=3.6.0 in c:\\users\\emran\\anaconda3\\envs\\hdr\\lib\\site-packages (from django->image) (3.7.2)\n",
      "Requirement already satisfied: sqlparse>=0.3.1 in c:\\users\\emran\\anaconda3\\envs\\hdr\\lib\\site-packages (from django->image) (0.4.4)\n",
      "Requirement already satisfied: tzdata in c:\\users\\emran\\anaconda3\\envs\\hdr\\lib\\site-packages (from django->image) (2023.3)\n",
      "Note: you may need to restart the kernel to use updated packages.\n"
     ]
    }
   ],
   "source": [
    "pip install image"
   ]
  },
  {
   "cell_type": "code",
   "execution_count": 2,
   "id": "edcdad25",
   "metadata": {},
   "outputs": [
    {
     "name": "stdout",
     "output_type": "stream",
     "text": [
      "Requirement already satisfied: pyscreenshot in c:\\users\\emran\\anaconda3\\envs\\hdr\\lib\\site-packages (3.1)\n",
      "Requirement already satisfied: EasyProcess in c:\\users\\emran\\anaconda3\\envs\\hdr\\lib\\site-packages (from pyscreenshot) (1.1)\n",
      "Requirement already satisfied: entrypoint2 in c:\\users\\emran\\anaconda3\\envs\\hdr\\lib\\site-packages (from pyscreenshot) (1.1)\n",
      "Requirement already satisfied: mss in c:\\users\\emran\\anaconda3\\envs\\hdr\\lib\\site-packages (from pyscreenshot) (9.0.1)\n",
      "Note: you may need to restart the kernel to use updated packages.\n"
     ]
    }
   ],
   "source": [
    "pip install pyscreenshot"
   ]
  },
  {
   "cell_type": "code",
   "execution_count": 3,
   "id": "51691f89",
   "metadata": {
    "scrolled": false
   },
   "outputs": [
    {
     "name": "stdout",
     "output_type": "stream",
     "text": [
      "Saved! 1\n",
      "Clear Your Screen and Redraw!\n",
      "Saved! 2\n",
      "Clear Your Screen and Redraw!\n",
      "Saved! 3\n",
      "Clear Your Screen and Redraw!\n",
      "Saved! 4\n",
      "Clear Your Screen and Redraw!\n",
      "Saved! 5\n",
      "Clear Your Screen and Redraw!\n"
     ]
    }
   ],
   "source": [
    "import pyscreenshot as ImageGrab\n",
    "import PIL\n",
    "import time\n",
    "images_folder=\"Dataset/\"\n",
    "  \n",
    "for i in range(1,6):\n",
    "   time.sleep(5)\n",
    "   im=ImageGrab.grab(bbox=(0,161,680,685))\n",
    "   print(\"Saved!\",i)\n",
    "   im.save(images_folder+str(i)+'.png')\n",
    "   print(\"Clear Your Screen and Redraw!\")"
   ]
  },
  {
   "cell_type": "code",
   "execution_count": null,
   "id": "668c9e8f",
   "metadata": {},
   "outputs": [],
   "source": []
  }
 ],
 "metadata": {
  "kernelspec": {
   "display_name": "Python 3 (ipykernel)",
   "language": "python",
   "name": "python3"
  },
  "language_info": {
   "codemirror_mode": {
    "name": "ipython",
    "version": 3
   },
   "file_extension": ".py",
   "mimetype": "text/x-python",
   "name": "python",
   "nbconvert_exporter": "python",
   "pygments_lexer": "ipython3",
   "version": "3.11.4"
  }
 },
 "nbformat": 4,
 "nbformat_minor": 5
}
